{
 "cells": [
  {
   "cell_type": "code",
   "execution_count": 26,
   "metadata": {},
   "outputs": [],
   "source": [
    "import numpy as np\n",
    "import matplotlib.pyplot as plt\n",
    "%matplotlib inline"
   ]
  },
  {
   "cell_type": "code",
   "execution_count": null,
   "metadata": {},
   "outputs": [],
   "source": [
    "from scipy.integrate import odeint, solve_ivp\n",
    "\"\"\"Problem 1: Phase separation, initial value problems, and the Method of Lines\"\"\"\n",
    "class AllenCahn:\n",
    "    \"\"\"\n",
    "    An implementation of the Allen-Cahn equation in two dimensions, using the method\n",
    "    of lines and explicit finite differences\n",
    "\n",
    "    Parameters\n",
    "        nx (int): number of grid points in the x direction\n",
    "        ny (int): number of grid points in the y direction\n",
    "        kappa (float): reaction rate\n",
    "        d (float): diffusion coefficient\n",
    "        Lx (float): length of the domain in the x direction\n",
    "        Ly (float): length of the domain in the y direction\n",
    "\n",
    "    \"\"\"\n",
    "\n",
    "    def __init__(self, nx, ny, kappa=1.0, d=1.0, Lx=1.0, Ly=1.0):\n",
    "        self.nx = nx\n",
    "        self.ny = ny\n",
    "        self.dx = Lx / nx\n",
    "        self.dy = Ly / ny\n",
    "        self.d = d\n",
    "        self.kappa = kappa\n",
    "       \n",
    "    def _laplace(self, grid):\n",
    "        \"\"\"\n",
    "        Apply the two-dimensional Laplace operator to a square array\n",
    "        \"\"\"\n",
    "       \n",
    "        #Define boundary conditions for rows in input grid\n",
    "        grid = np.vstack([grid[0,:][None,:],grid,grid[-1,:][None,:]])\n",
    "        #Define boundary conditions for columns in input grid\n",
    "        grid = np.hstack([grid[:,0][:,None], grid, grid[:,-1][:,None]])\n",
    "\n",
    "        #Intialize grid for speed\n",
    "        changed_grid = np.zeros((self.ny,self.nx))\n",
    "\n",
    "        #Vectorize the grid element addition p(j+1,i) -> grid[1:-2,1:-1]\n",
    "        changed_grid = grid[:-2,1:-1]+grid[1:-1,:-2]+grid[2:,1:-1]+grid[1:-1,2:] \n",
    "        changed_grid -= 4*grid[1:-1,1:-1]\n",
    "\n",
    "        changed_grid /= self.dx*self.dy\n",
    "\n",
    "        return changed_grid\n",
    "\n",
    "    def _reaction(self, y):\n",
    "        \"\"\"\n",
    "        Bistable reaction term\n",
    "        \"\"\"\n",
    "        return y*(1-y**2)\n",
    "\n",
    "    def rhs(self, t, y):\n",
    "        \"\"\"\n",
    "        For technical reasons, this function needs to take a one-dimensional vector, \n",
    "        and so we have to reshape the vector back into the mesh\n",
    "        \"\"\"\n",
    "        y = y.reshape((self.ny,self.nx))\n",
    "        eq = self.d*self._laplace(y)+self.kappa*self._reaction(y)\n",
    "        return eq.flatten()\n",
    "\n",
    "\n",
    "    def solve(self, y0, t_min, t_max, nt, **kwargs):\n",
    "        \"\"\"\n",
    "        Solve the heat equation using the odeint solver\n",
    "        **kwargs are passed to scipy.integrate.solve_ivp\n",
    "        \"\"\"\n",
    "\n",
    "        time = np.linspace(t_min,t_max,nt)\n",
    "        s_ret = solve_ivp(self.rhs,(t_min, t_max),y0.flatten(),t_eval=time,**kwargs)\n",
    "        sln = s_ret.y.T\n",
    "        time = s_ret.t\n",
    "        \n",
    "        return time, sln.reshape((len(time), self.ny, self.nx))"
   ]
  },
  {
   "cell_type": "code",
   "execution_count": null,
   "metadata": {},
   "outputs": [],
   "source": [
    "np.random.seed(0)\n",
    "ic = np.random.random((40, 40))-.6\n",
    "model = AllenCahn(*ic.shape, kappa=1e1, d=0)\n",
    "tpts, sol = model.solve(ic, 0, 8, 300, method=\"DOP853\")\n",
    "\n",
    "\n",
    "plt.figure()\n",
    "plt.imshow(sol[0], vmin=-1, vmax=1)\n",
    "\n",
    "plt.figure()\n",
    "plt.imshow(sol[-1], vmin=-1, vmax=1)"
   ]
  },
  {
   "cell_type": "code",
   "execution_count": null,
   "metadata": {},
   "outputs": [],
   "source": [
    "\"\"\"Varying D and kappa\"\"\"\n",
    "\"\"\"2. The effect of increasing kappa is the same as decreasing D and vice versa. As D decreases, the domain sizes become smaller as the values tend to diffuse less and less from the intial condition. As kappa decreases, the two fluids are conversely more likely to mix with each other and form large domains. In the limit that kappa goes to zero, there would be a single large domain corresponding to the heat equation which does match that special case solution. If D goes to zero, then the solution should lose its tendency to diffuse spatially and be reliant on time alone, but contrary to my intuition, the solution stayed the same even at large time scales.\"\"\""
   ]
  },
  {
   "cell_type": "code",
   "execution_count": null,
   "metadata": {},
   "outputs": [],
   "source": [
    "\"\"\"Mesh size, timestep, duration\"\"\"\n",
    "\"\"\"3. At a mesh size of 400 x 400, the solver appears to fail by simply not producing a solution at all. The timer ran on for several minutes without finishing. When increasing the size of the integration time step, the solver is actually incredibly robust, still producing an accurate result from nt = 2 and only failing at nt = 1 with the failure simply looking exactly like the initial condition. Decreasing the integration duration produces a fairly accurate result even down to t_max = 2, but by t_max = 0.4, the result is nearly unrecognizable. Failure in this case is a washed out mesh with no recognizable patterns. \"\"\""
   ]
  },
  {
   "cell_type": "code",
   "execution_count": null,
   "metadata": {},
   "outputs": [],
   "source": [
    "\"\"\"Gaussian blur\"\"\"\n",
    "\"\"\"4. The heat equation tends to smooth out sharp differences in adjacent cells. In a photo, this would be analogous to \"blurring\" or smearing the lines. Taking D=0 takes each initial value and pushes it to the far end of its spectrum which makes it seem like increasing the contrast in photo-editing, but at already fairly uniform distributions, it simply eliminates all differences, which seems more like saturation. If I had to choose one of the two, though, I would lean more towards Contrast\"\"\""
   ]
  },
  {
   "cell_type": "code",
   "execution_count": 27,
   "metadata": {},
   "outputs": [],
   "source": [
    "\"\"\"Problem 2: Turing's model of morphogenesis and spectral methods\"\"\"\n",
    "\n",
    "from scipy.integrate import solve_ivp\n",
    "\n",
    "class GrayScott:\n",
    "    \"\"\"\n",
    "    Simulate the two-dimensional Gray-Scott model\n",
    "\n",
    "    Parameters\n",
    "        nx (int): number of grid points in the x direction\n",
    "        ny (int): number of grid points in the y direction\n",
    "        Lx (float): length of the domain in the x direction\n",
    "        Ly (float): length of the domain in the y direction\n",
    "        du (float): diffusion coefficient for u\n",
    "        dv (float): diffusion coefficient for v\n",
    "        kappa (float): degradation rate of v\n",
    "        b (float): growth rate of u\n",
    "\n",
    "    \"\"\"\n",
    "\n",
    "    def __init__(self, nx, ny, du=0.1, dv=0.05, b=0.0545, kappa=0.01, Lx=1.0, Ly=1.0):\n",
    "        self.nx, self.ny = nx, ny\n",
    "        self.dx = Lx / nx\n",
    "        self.dy = Ly / ny\n",
    "        self.du, self.dv = du, dv\n",
    "        self.kappa = kappa\n",
    "        self.b = b\n",
    "        \n",
    "        ## We need to define a mesh for the frequency domain\n",
    "        kx = (2 * np.pi / Lx) * np.hstack([np.arange(nx / 2 + 1), np.arange(1 - nx / 2, 0)]) / nx\n",
    "        ky = (2 * np.pi / Ly) * np.hstack([np.arange(ny / 2 + 1), np.arange(1 - ny / 2, 0)]) / ny\n",
    "        self.kx, self.ky = kx, ky\n",
    "        kxx, kyy = np.meshgrid(kx, ky)\n",
    "\n",
    "        ksq = kxx**2 + kyy**2\n",
    "        self.ksq = ksq\n",
    "\n",
    "        \n",
    "    def _reaction(self, y):\n",
    "        \"\"\"\n",
    "        Compute the reaction term in real space\n",
    "        Args:\n",
    "            y (np.ndarray): array of shape (2 * nx * ny, ) containing the two fields\n",
    "                u and v, stacked together\n",
    "        \"\"\"\n",
    "        u, v = y[:(self.ny * self.nx)], y[-(self.ny * self.nx):]\n",
    "        uvsq = u*(v**2)\n",
    "\n",
    "        u_reac = self.b*(1-u)\n",
    "        u_reac_full = -uvsq + u_reac\n",
    "\n",
    "        v_reac = self.kappa*v\n",
    "        v_reac_full = uvsq - v_reac\n",
    "        y_reac = np.hstack([u_reac_full,v_reac_full])\n",
    "        return y_reac\n",
    "\n",
    "    def _laplace(self, y):\n",
    "        \"\"\"\n",
    "        Calculate the Laplacian in Fourier space\n",
    "        \"\"\"\n",
    "        #Change flattened y back into an array for Fourier transforms\n",
    "        y = np.reshape(y,(self.nx, self.ny))\n",
    "        ft = np.fft.fft2(y)\n",
    "        ift = np.fft.ifft2(-self.ksq*ft)\n",
    "        #Re-flatten array\n",
    "        return np.real(ift).flatten()\n",
    "\n",
    "    def _diffusion(self, y):\n",
    "        \n",
    "        \"\"\"Calculate the diffusion term in Fourier spaceArgs:\n",
    "            y (np.ndarray): array of shape (2 * nx * ny, ) containing the two fields\n",
    "                u and v, stacked together\n",
    "        \"\"\"\n",
    "        #Pull out the individual fields from the stacked array\n",
    "        u, v = y[:(self.ny*self.nx)],y[-(self.ny*self.nx):]\n",
    "        u_lap = self._laplace(u)\n",
    "        v_lap = self._laplace(v)\n",
    "        #Multiply each field by diffusion coefficient\n",
    "        u_diff = self.du * u_lap\n",
    "        v_diff = self.dv * v_lap\n",
    "        #Restack fields into a single array\n",
    "        y_diff = np.hstack([u_diff,v_diff])\n",
    "        return y_diff\n",
    "\n",
    "    def rhs(self, t, y):\n",
    "        \"\"\"\n",
    "        For technical reasons, this function needs to take a one-dimensional vector, \n",
    "        and so we have to reshape the vector back into the mesh\n",
    "        \"\"\"\n",
    "        uv_eq = self._reaction(y)+self._diffusion(y)\n",
    "        return uv_eq\n",
    "    \n",
    "    def solve(self, y0, t_min, t_max, nt, **kwargs):\n",
    "        \"\"\"\n",
    "        Solve the heat equation using the solve_ivp solver\n",
    "\n",
    "        Args:\n",
    "            y0 (np.ndarray): initial condition\n",
    "            t_min (float): minimum time\n",
    "            t_max (float): maximum time\n",
    "            nt (int): number of time steps\n",
    "            **kwargs: keyword arguments to pass to solve_ivp\n",
    "\n",
    "        \"\"\"\n",
    "        u0, v0 = y0\n",
    "        time = np.linspace(t_min,t_max,nt)\n",
    "        y0 = np.hstack([u0.flatten(), v0.flatten()])\n",
    "        sol = solve_ivp(self.rhs,(t_min,t_max), y0, t_eval=time, **kwargs)\n",
    "        sol_trans = sol.y.T\n",
    "\n",
    "        u, v = sol_trans[:,:(self.nx*self.ny)],sol_trans[:,(self.nx * self.ny):]\n",
    "        u = np.reshape(u, (nt, self.ny, self.nx))\n",
    "        v = np.reshape(v,(nt, self.ny, self.nx))\n",
    "        return time, np.stack([u,v], axis=-1)\n",
    "        "
   ]
  },
  {
   "cell_type": "code",
   "execution_count": 59,
   "metadata": {},
   "outputs": [],
   "source": [
    "import numpy as np\n",
    "from scipy.integrate import solve_ivp\n",
    "\n",
    "\n",
    "def make_initial_conditions(n):\n",
    "    \"\"\"\n",
    "    Make a bump-shaped initial conditions array\n",
    "    \"\"\"\n",
    "    xx, yy = np.meshgrid(np.linspace(-1, 1, n), np.linspace(-1, 1, n))\n",
    "    rr =  (xx**2 + yy**2)**0.5\n",
    "    u_ic = 1 - 0.5 * np.copy(np.exp(-rr**2 - xx**2))\n",
    "    v_ic = 0.25 * np.copy(np.exp(-rr**2))\n",
    "    return u_ic, v_ic\n",
    "\n",
    "class GrayScott:\n",
    "    \"\"\"\n",
    "    Simulate the two-dimensional Gray-Scott model\n",
    "    Parameters\n",
    "        nx (int): number of grid points in the x direction\n",
    "        ny (int): number of grid points in the y direction\n",
    "        Lx (float): length of the domain in the x direction\n",
    "        Ly (float): length of the domain in the y direction\n",
    "        du (float): diffusion coefficient for u\n",
    "        dv (float): diffusion coefficient for v\n",
    "        kappa (float): degradation rate of v\n",
    "        b (float): growth rate of u\n",
    "    \"\"\"\n",
    "\n",
    "    def __init__(self, nx, ny, du=0.1, dv=0.05, b=0.0545, kappa=0.1165, Lx=1.0, Ly=1.0):\n",
    "        self.nx, self.ny = nx, ny\n",
    "        self.dx = Lx / nx\n",
    "        self.dy = Ly / ny\n",
    "        self.du, self.dv = du, dv\n",
    "        self.kappa = kappa\n",
    "        self.b = b\n",
    "        \n",
    "        ## We need to define a mesh for the frequency domain\n",
    "        kx = (2 * np.pi / Lx) * np.hstack([np.arange(nx / 2 + 1), np.arange(1 - nx / 2, 0)]) / nx\n",
    "        ky = (2 * np.pi / Ly) * np.hstack([np.arange(ny / 2 + 1), np.arange(1 - ny / 2, 0)]) / ny\n",
    "        self.kx, self.ky = kx, ky\n",
    "        kxx, kyy = np.meshgrid(kx, ky)\n",
    "\n",
    "        ksq = kxx**2 + kyy**2\n",
    "        self.ksq = ksq\n",
    "\n",
    "        \n",
    "    def _reaction(self, y):\n",
    "        \"\"\"\n",
    "        Compute the reaction term in real space\n",
    "        Args:\n",
    "            y (np.ndarray): array of shape (2 * nx * ny, ) containing the two fields\n",
    "                u and v, stacked together\n",
    "        \"\"\"\n",
    "        ########################################################################\n",
    "        #\n",
    "        # Your code here. If you are performing the reaction in real space, this is\n",
    "        # relatively straightforward. If you are performing the reaction in Fourier\n",
    "        # space, you will need to perform an inverse Fourier transform\n",
    "        #\n",
    "        ########################################################################\n",
    "        u, v = y[:(self.ny * self.nx)], y[-(self.ny * self.nx):]\n",
    "        uv2 = u * (v**2)\n",
    "        rxn_u = -uv2 + self.b * (1 - u)\n",
    "        rxn_v = uv2 - self.kappa * v\n",
    "        y_out = np.hstack([rxn_u, rxn_v])\n",
    "        return y_out\n",
    "\n",
    "    # ## Finite difference approach\n",
    "    # def _laplace(self, y):\n",
    "    #     \"\"\"\n",
    "    #     Calculate the Laplacian in real space of a flat array\n",
    "\n",
    "    #     Args:\n",
    "    #         y (np.ndarray): array of shape (nx * ny, ) containing the a single field\n",
    "    #     \"\"\"\n",
    "    #     y = np.reshape(y, (self.nx, self.ny))\n",
    "    #     lap = np.zeros((self.ny, self.nx))\n",
    "    #     # enforce reflection boundary conditions by padding rows and columns\n",
    "    #     y = np.vstack([y[-1, :][None, :], y, y[0, :][None, :]])\n",
    "    #     y = np.hstack([y[:, -1][:, None], y, y[:, 0][:, None]])\n",
    "\n",
    "    #     # calculate vectorized laplace operator\n",
    "    #     lap = y[:-2, 1:-1] + y[1:-1, :-2] + y[2:, 1:-1] + y[1:-1, 2:]\n",
    "    #     lap  -= 4 * y[1:-1, 1:-1]\n",
    "        \n",
    "    #     #lap /= self.dx * self.dy\n",
    "    #     return lap.flatten()\n",
    "\n",
    "\n",
    "    def _laplace(self, y):\n",
    "        \"\"\"\n",
    "        Calculate the Laplacian in Fourier space\n",
    "        \"\"\"\n",
    "         ########################################################################\n",
    "        #\n",
    "        # Your code here.\n",
    "        #\n",
    "        ########################################################################\n",
    "        y = np.reshape(y, (self.nx, self.ny))\n",
    "        yk = np.fft.fft2(y)\n",
    "        lap = -self.ksq * yk\n",
    "        lap = np.fft.ifft2(lap)\n",
    "        return np.real(lap).flatten()\n",
    "\n",
    "\n",
    "    def _diffusion(self, y):\n",
    "        \"\"\"\n",
    "        Calculate the diffusion term in Fourier space\n",
    "        Args:\n",
    "            y (np.ndarray): array of shape (2 * nx * ny, ) containing the two fields\n",
    "                u and v, stacked together\n",
    "        \"\"\"\n",
    "        ########################################################################\n",
    "        #\n",
    "        # Your code here. I split the Laplace operator into its own function\n",
    "        #\n",
    "        ########################################################################\n",
    "        u, v = y[:(self.ny * self.nx)], y[-(self.ny * self.nx):]\n",
    "        lap_u = self._laplace(u)\n",
    "        lap_v = self._laplace(v)\n",
    "        u_out = self.du * lap_u\n",
    "        v_out = self.dv * lap_v\n",
    "        y_out = np.hstack([u_out, v_out])\n",
    "        return y_out\n",
    "\n",
    "\n",
    "\n",
    "    def rhs(self, t, y):\n",
    "        \"\"\"\n",
    "        For technical reasons, this function needs to take a one-dimensional vector, \n",
    "        and so we have to reshape the vector back into the mesh\n",
    "        \"\"\"\n",
    "        ########################################################################\n",
    "        #\n",
    "        # Your code here. This mainly calls other functions, in my implementation\n",
    "        #\n",
    "        ########################################################################\n",
    "        out = self._reaction(y) + self._diffusion(y)\n",
    "        return out\n",
    "\n",
    "\n",
    "    def solve(self, y0, t_min, t_max, nt, **kwargs):\n",
    "        \"\"\"\n",
    "        Solve the heat equation using the solve_ivp solver\n",
    "        Args:\n",
    "            y0 (np.ndarray): initial condition\n",
    "            t_min (float): minimum time\n",
    "            t_max (float): maximum time\n",
    "            nt (int): number of time steps\n",
    "            **kwargs: keyword arguments to pass to solve_ivp\n",
    "        \"\"\"\n",
    "        ########################################################################\n",
    "        #\n",
    "        # Your code here. I recommend using the solve_ivp solver, along with judicious\n",
    "        # use of np.reshape operation and np.hstack, because solve_ivp expects a\n",
    "        # one-dimensional vector as input\n",
    "        #\n",
    "        ########################################################################\n",
    "        u0, v0 = y0\n",
    "        tpts = np.linspace(t_min, t_max, nt)\n",
    "        y0 = np.hstack([u0.flatten(), v0.flatten()])\n",
    "        out = solve_ivp(self.rhs, (t_min, t_max), y0, t_eval=tpts, **kwargs)\n",
    "        sol = out.y.T\n",
    "        \n",
    "        u, v = sol[:, :self.nx * self.ny], sol[:, self.nx * self.ny:]\n",
    "        u = np.reshape(u, (nt, self.ny, self.nx))\n",
    "        v = np.reshape(v, (nt, self.ny, self.nx))\n",
    "        return tpts, np.stack([u, v], axis=-1)\n"
   ]
  },
  {
   "cell_type": "code",
   "execution_count": 70,
   "metadata": {},
   "outputs": [
    {
     "name": "stdout",
     "output_type": "stream",
     "text": [
      "Imaginary residual is: 0.0\n"
     ]
    },
    {
     "data": {
      "text/plain": [
       "<matplotlib.image.AxesImage at 0x272974b9940>"
      ]
     },
     "execution_count": 70,
     "metadata": {},
     "output_type": "execute_result"
    },
    {
     "data": {
      "image/png": "[encoded data removed]",
      "text/plain": [
       "<Figure size 432x432 with 1 Axes>"
      ]
     },
     "metadata": {
      "needs_background": "light"
     },
     "output_type": "display_data"
    }
   ],
   "source": [
    "np.random.seed(0)\n",
    "u_ic = 0.5 +  1.5 * np.random.random((50, 50))\n",
    "v_ic = 1 - np.copy(u_ic)\n",
    "\n",
    "## Run simulation\n",
    "model = GrayScott(*u_ic.shape)\n",
    "time, sol = model.solve([u_ic, v_ic], 0, 5000, nt=1000)\n",
    "\n",
    "## Check that our spectral code is working: the imaginary residual should be small\n",
    "print(f\"Imaginary residual is: {np.mean(np.abs(np.imag(np.array(sol))))}\")\n",
    "sol = np.real(sol)\n",
    "\n",
    "plt.figure(figsize=(6, 6))\n",
    "plt.imshow(sol[-1, ..., 1])"
   ]
  },
  {
   "cell_type": "code",
   "execution_count": 45,
   "metadata": {},
   "outputs": [
    {
     "data": {
      "text/plain": [
       "'2. Increasing Dv and b has the same effect on the resulting scalar field, namely, the field reaches a maximal state of disorder where each mesh point alternates values. This same disrdered state occurs when you decrease Du. Conversely, changing those parameters in the opposite manner generally leads to formation of small circular islands (although the density and size of these islands) varies. At the largest values of Du, the islands are several mesh points wide and fairly dense in contrast to small values of Dv where the islands are still dense but only one mesh point across. Large values of b lead to large islands that are sparsely distributed. Since b is the rate of reaction of u, increasing it seems like it would lead to a higher concentration of v while decreasing it would prevent u from changing into v, which does seem to be the case. When b is small, there are very large sections of both u and v which remain constant. The result from increasing Du would be intuitive if the dark purple color corresponded to u. In that case, it would be easy for u to spread out around the v particles which would tend to clump together. Decreasing Dv would have a similar effect because the v particles would tend to move less relative to the u particles.'"
      ]
     },
     "execution_count": 45,
     "metadata": {},
     "output_type": "execute_result"
    }
   ],
   "source": [
    "\"\"\"Varying D and b\"\"\"\n",
    "\"\"\"2. Increasing Dv and b has the same effect on the resulting scalar field, namely, the field reaches a maximal state of disorder where each mesh point alternates values. This same disrdered state occurs when you decrease Du. Conversely, changing those parameters in the opposite manner generally leads to formation of small circular islands (although the density and size of these islands) varies. At the largest values of Du, the islands are several mesh points wide and fairly dense in contrast to small values of Dv where the islands are still dense but only one mesh point across. Large values of b lead to large islands that are sparsely distributed. Since b is the rate of reaction of u, increasing it seems like it would lead to a higher concentration of v while decreasing it would prevent u from changing into v, which does seem to be the case. When b is small, there are very large sections of both u and v which remain constant. The result from increasing Du would be intuitive if the dark purple color corresponded to u. In that case, it would be easy for u to spread out around the v particles which would tend to clump together. Decreasing Dv would have a similar effect because the v particles would tend to move less relative to the u particles.\"\"\""
   ]
  },
  {
   "cell_type": "code",
   "execution_count": 71,
   "metadata": {},
   "outputs": [
    {
     "data": {
      "text/plain": [
       "'3. Fast Fourier Transforms scale as O(NlogN) which is better than the previous O(N^2) for normal Fourier Transforms, but when N is 10000, even that is still large. Computing the discrete Laplacian has scaling of O(N) which is slightly but not much cheaper than the FFT. For FFT to be comparable N would have to be 3 or less.'"
      ]
     },
     "execution_count": 71,
     "metadata": {},
     "output_type": "execute_result"
    }
   ],
   "source": [
    "\"\"\"Fourier\"\"\"\n",
    "\"\"\"3. Fast Fourier Transforms scale as O(NlogN) which is better than the previous O(N^2) for normal Fourier Transforms, but when N is 10000, even that is still large. Computing the discrete Laplacian has scaling of O(N) which is slightly but not much cheaper than the FFT. For FFT to be comparable N would have to be 3 or less.\"\"\"\n"
   ]
  },
  {
   "cell_type": "code",
   "execution_count": 72,
   "metadata": {},
   "outputs": [
    {
     "data": {
      "text/plain": [
       "\"4. Decreasing the number of time points: I didn't see a noticable effect even decreasing the number of steps down to 10. When I finally reach a single time step, the solution failed by becoming maximally chaotic with no obvious steady state solution. Decreasing the number of mesh grid points changed the field, but it didn't fail until the single digits, at which point, the field took on a single uniform value. This failure was similar to the previous equation. Increasing the number of points didn't cause the solver to fail, but it did take a very long time. \""
      ]
     },
     "execution_count": 72,
     "metadata": {},
     "output_type": "execute_result"
    }
   ],
   "source": [
    "\"\"\"Varying timesteps and spacepoints\"\"\"\n",
    "\"\"\"4. Decreasing the number of time points: I didn't see a noticable effect even decreasing the number of steps down to 10. When I finally reach a single time step, the solution failed by becoming maximally chaotic with no obvious steady state solution. Decreasing the number of mesh grid points changed the field, but it didn't fail until the single digits, at which point, the field took on a single uniform value. This failure was similar to the previous equation. Increasing the number of points didn't cause the solver to fail, but it did take a very long time. \"\"\""
   ]
  },
  {
   "cell_type": "code",
   "execution_count": 58,
   "metadata": {},
   "outputs": [
    {
     "data": {
      "text/plain": [
       "\"5. Evolutionary forces would tend to act on the parameter which most strongly affects change as that parameter would be most likely to introduce variation and thus diversity into a population. Du, Dv, and b all affected the field somehow, but if we're only looking at spacing of the islands, Du and b tended to affect that outcome the most (with Du having a slight edge).\""
      ]
     },
     "execution_count": 58,
     "metadata": {},
     "output_type": "execute_result"
    }
   ],
   "source": [
    "\"\"\"Evolution\"\"\"\n",
    "\"\"\"5. Evolutionary forces would tend to act on the parameter which most strongly affects change as that parameter would be most likely to introduce variation and thus diversity into a population. Du, Dv, and b all affected the field somehow, but if we're only looking at spacing of the islands, Du and b tended to affect that outcome the most (with Du having a slight edge).\"\"\""
   ]
  },
  {
   "cell_type": "code",
   "execution_count": 62,
   "metadata": {},
   "outputs": [
    {
     "data": {
      "text/plain": [
       "'6. The effect of the periodic boundary conditions is that the left and right sides and the top and bottom sides are effectively connected, which you can see if you look closely at the figures. If this was instead changed to the mirror boundary from before (no flux), the edges would no longer be continuous. The long term modes would certainly be different then and might not even form.'"
      ]
     },
     "execution_count": 62,
     "metadata": {},
     "output_type": "execute_result"
    }
   ],
   "source": [
    "\"\"\"Boundary Conditions\"\"\"\n",
    "\"\"\"6. The effect of the periodic boundary conditions is that the left and right sides and the top and bottom sides are effectively connected, which you can see if you look closely at the figures. If this was instead changed to the mirror boundary from before (no flux), the edges would no longer be continuous. The long term modes would certainly be different then and might not even form.\"\"\""
   ]
  },
  {
   "cell_type": "code",
   "execution_count": null,
   "metadata": {},
   "outputs": [],
   "source": []
  }
 ],
 "metadata": {
  "kernelspec": {
   "display_name": "Python 3.9.12 ('cphy')",
   "language": "python",
   "name": "python3"
  },
  "language_info": {
   "codemirror_mode": {
    "name": "ipython",
    "version": 3
   },
   "file_extension": ".py",
   "mimetype": "text/x-python",
   "name": "python",
   "nbconvert_exporter": "python",
   "pygments_lexer": "ipython3",
   "version": "3.9.12"
  },
  "orig_nbformat": 4,
  "vscode": {
   "interpreter": {
    "hash": "a2798f8df0ca4ac9998ec6bf04caac26c326221eedc09702356b31ef12283608"
   }
  }
 },
 "nbformat": 4,
 "nbformat_minor": 2
}
